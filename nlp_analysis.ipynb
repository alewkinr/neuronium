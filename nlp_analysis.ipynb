{
 "cells": [
  {
   "cell_type": "markdown",
   "metadata": {},
   "source": [
    "# Импорт библиотек"
   ]
  },
  {
   "cell_type": "code",
   "execution_count": 1,
   "metadata": {
    "collapsed": true
   },
   "outputs": [],
   "source": [
    "import json\n",
    "import datetime\n",
    "import csv\n",
    "import time\n",
    "import re\n",
    "try:\n",
    "    from urllib.request import urlopen, Request\n",
    "except ImportError:\n",
    "    from urllib2 import urlopen, Request\n",
    "import pandas as pd\n",
    "import numpy as np"
   ]
  },
  {
   "cell_type": "markdown",
   "metadata": {},
   "source": [
    "# Получение прав"
   ]
  },
  {
   "cell_type": "code",
   "execution_count": 2,
   "metadata": {
    "collapsed": true
   },
   "outputs": [],
   "source": [
    "app_id = \"380758355733546\"\n",
    "app_secret = \"f88ae3a8bd0bd35f401affadaed3527f\" \n",
    "access_token = app_id + \"|\" + app_secret\n",
    "\n",
    "page_id = 'banki.ru'\n",
    "#page_id = 'hillaryclinton'\n"
   ]
  },
  {
   "cell_type": "markdown",
   "metadata": {},
   "source": [
    "# Предотвращение ошибки"
   ]
  },
  {
   "cell_type": "code",
   "execution_count": 3,
   "metadata": {
    "collapsed": true
   },
   "outputs": [],
   "source": [
    "def request_until_succeed(url):\n",
    "    req = Request(url)\n",
    "    success = False\n",
    "    while success is False:\n",
    "        try: \n",
    "            response = urlopen(req)\n",
    "            if response.getcode() == 200:\n",
    "                success = True\n",
    "        except Exception as e:\n",
    "            print(e)\n",
    "            time.sleep(5)\n",
    "            \n",
    "            print(\"Error for URL %s: %s\" % (url, datetime.datetime.now()))\n",
    "\n",
    "    return response.read()\n"
   ]
  },
  {
   "cell_type": "markdown",
   "metadata": {},
   "source": [
    "# Получение данных-1"
   ]
  },
  {
   "cell_type": "code",
   "execution_count": 4,
   "metadata": {
    "collapsed": true
   },
   "outputs": [],
   "source": [
    "def getFacebookPageFeedData(page_id, access_token, num_statuses):\n",
    "    \n",
    "    base = \"https://graph.facebook.com\"\n",
    "    node = \"/\" + page_id + \"/feed\" \n",
    "    parameters = \"/?fields=message,created_time,id,likes.limit(1).summary(true),comments.limit(1).summary(true),\\\n",
    "    reactions.limit(0).summary(true), shares&limit=%s&access_token=%s\" % (num_statuses, access_token) \n",
    "    url = base + node + parameters\n",
    "    \n",
    "    data = json.loads(request_until_succeed(url))\n",
    "    \n",
    "    return data"
   ]
  },
  {
   "cell_type": "markdown",
   "metadata": {},
   "source": [
    "# Получение данных-2"
   ]
  },
  {
   "cell_type": "code",
   "execution_count": 5,
   "metadata": {
    "collapsed": true
   },
   "outputs": [],
   "source": [
    "def processFacebookPageFeedStatus(status):\n",
    "        \n",
    "    status_id = status['id']\n",
    "    status_message = '' if 'message' not in status.keys() else status['message'].encode(\"utf-8\")\n",
    "    \n",
    "        \n",
    "    status_published = datetime.datetime.strptime(status['created_time'],'%Y-%m-%dT%H:%M:%S+0000')\n",
    "    status_published = status_published + datetime.timedelta(hours=-5) # EST\n",
    "    status_published = status_published.strftime('%Y-%m-%d %H:%M:%S') \n",
    "    \n",
    "    \n",
    "    num_likes = 0 if 'likes' not in status.keys() else status['likes']['summary']['total_count']\n",
    "    num_comments = 0 if 'comments' not in status.keys() else status['comments']['summary']['total_count']\n",
    "    num_shares = 0 if 'shares' not in status.keys() else status['shares']['count']\n",
    "    \n",
    "    return (status_id, status_message,\n",
    "           status_published, num_likes, num_comments, num_shares)"
   ]
  },
  {
   "cell_type": "markdown",
   "metadata": {},
   "source": [
    "# Запись данных"
   ]
  },
  {
   "cell_type": "code",
   "execution_count": null,
   "metadata": {},
   "outputs": [],
   "source": [
    "def scrapeFacebookPageFeedStatus(page_id, access_token):\n",
    "    \n",
    "    with open('%s_facebook.csv' % page_id, 'w', newline=\"\", encoding='utf8') as file:\n",
    "        w = csv.writer(file)\n",
    "        w.writerow([\"status_id\", \"status_message\", \"status_published\", \"num_likes\", \"num_comments\", \"num_shares\"])\n",
    "        \n",
    "        has_next_page = True\n",
    "        num_processed = 0   \n",
    "        scrape_starttime = datetime.datetime.now()\n",
    "        \n",
    "        print(\"Scraping %s Facebook Page: %s\\n\" % (page_id, scrape_starttime))\n",
    "        \n",
    "        statuses = getFacebookPageFeedData(page_id, access_token, 100)\n",
    "        \n",
    "        while has_next_page:\n",
    "            for status in statuses['data']:\n",
    "                w.writerow(processFacebookPageFeedStatus(status))\n",
    "                \n",
    "                num_processed += 1\n",
    "                if num_processed % 1000 == 0:\n",
    "                    print (\"%s Statuses Processed: %s\" % (num_processed, datetime.datetime.now()))\n",
    "                    \n",
    "            if 'paging' in statuses.keys():\n",
    "                statuses = json.loads(request_until_succeed(statuses['paging']['next']))\n",
    "            else:\n",
    "                has_next_page = False\n",
    "                \n",
    "       \n",
    "        print (\"\\nDone!\\n%s Statuses Processed in %s\" % (num_processed, datetime.datetime.now() - scrape_starttime))\n",
    "\n",
    "scrapeFacebookPageFeedStatus(page_id, access_token)\n"
   ]
  },
  {
   "cell_type": "markdown",
   "metadata": {},
   "source": [
    "# Создание итоговой таблицы"
   ]
  },
  {
   "cell_type": "code",
   "execution_count": null,
   "metadata": {
    "collapsed": true
   },
   "outputs": [],
   "source": [
    "Clinton[\"candidate\"] = \"Clinton\"\n",
    "Trump[\"candidate\"] = \"Trump\"\n",
    "df = pd.concat([Clinton, Trump])"
   ]
  },
  {
   "cell_type": "markdown",
   "metadata": {},
   "source": [
    "# Анализ настроений"
   ]
  },
  {
   "cell_type": "code",
   "execution_count": null,
   "metadata": {
    "collapsed": true
   },
   "outputs": [],
   "source": [
    "from textblob import TextBlob\n",
    "df[\"sentiment\"] = 0\n",
    "\n",
    "for i in range(0,df.shape[0]):\n",
    "    if pd.isnull(df.loc[i,\"status_message\"])==False:\n",
    "        blob = TextBlob(df.loc[i,\"status_message\"])\n",
    "        df.loc[i,\"sentiment\"] = blob.sentiment.polarity\n",
    "    else:\n",
    "        df.loc[i,\"sentiment\"] = 0"
   ]
  },
  {
   "cell_type": "markdown",
   "metadata": {},
   "source": [
    "# Создание итогового файла"
   ]
  },
  {
   "cell_type": "code",
   "execution_count": null,
   "metadata": {
    "collapsed": true
   },
   "outputs": [],
   "source": [
    "writer = pd.ExcelWriter('fb_elections.xlsx')\n",
    "df.to_excel(writer, index=False)\n",
    "writer.save()"
   ]
  }
 ],
 "metadata": {
  "kernelspec": {
   "display_name": "Python 3",
   "language": "python",
   "name": "python3"
  },
  "language_info": {
   "codemirror_mode": {
    "name": "ipython",
    "version": 3
   },
   "file_extension": ".py",
   "mimetype": "text/x-python",
   "name": "python",
   "nbconvert_exporter": "python",
   "pygments_lexer": "ipython3",
   "version": "3.6.1"
  }
 },
 "nbformat": 4,
 "nbformat_minor": 2
}
