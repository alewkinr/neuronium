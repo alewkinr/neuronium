{
 "cells": [
  {
   "cell_type": "code",
   "execution_count": 91,
   "metadata": {
    "collapsed": true
   },
   "outputs": [],
   "source": [
    "#!pip install tweepy\n",
    "import tweepy\n",
    "import datetime\n",
    "import csv"
   ]
  },
  {
   "cell_type": "code",
   "execution_count": 92,
   "metadata": {
    "collapsed": true
   },
   "outputs": [],
   "source": [
    "consumer_key='ar7n11lSfM2lz94Ckq1rgfAS4';\n",
    "consumer_secret='yzNolNZTg4oAPJjdjjtnlYWwoxZAOCXb79b7kn9Xi9OQCfq494';\n",
    "access_token='979875632594276353-sY7PKHnHjysTBNj1Bp0Q2fh1HehlaR3';\n",
    "access_token_secret='rwLair5Slh5vcVFgB3UYuZIbVkjAro3qkvumNq4qNO1Rq';\n",
    "\n",
    "user_to_parse='ru_minfin';\n",
    "tweets_count=3200;"
   ]
  },
  {
   "cell_type": "code",
   "execution_count": 93,
   "metadata": {
    "collapsed": true
   },
   "outputs": [],
   "source": [
    "auth = tweepy.OAuthHandler(consumer_key, consumer_secret)\n",
    "auth.set_access_token(access_token, access_token_secret)\n",
    "api = tweepy.API(auth)"
   ]
  },
  {
   "cell_type": "code",
   "execution_count": 94,
   "metadata": {
    "collapsed": true
   },
   "outputs": [],
   "source": [
    "user = api.get_user(user_to_parse);"
   ]
  },
  {
   "cell_type": "code",
   "execution_count": 95,
   "metadata": {},
   "outputs": [],
   "source": [
    "tweets = user.timeline(count=tweets_count)\n",
    "\n",
    "with open(('tweets_'+user_to_parse+'.csv'), 'w', newline='', encoding='utf-8') as csv_file:\n",
    "    csv_writer = csv.writer(csv_file)\n",
    "    for tweet in tweets:\n",
    "        if datetime.date(tweet.created_at.year,tweet.created_at.month, tweet.created_at.day) >= datetime.date(2017,7,24):\n",
    "             csv_writer.writerow((tweet.created_at,tweet.text));"
   ]
  },
  {
   "cell_type": "markdown",
   "metadata": {},
   "source": [
    "# Парсер > 200 твитов (не работает)"
   ]
  },
  {
   "cell_type": "code",
   "execution_count": 63,
   "metadata": {},
   "outputs": [
    {
     "name": "stdout",
     "output_type": "stream",
     "text": [
      "CPU times: user 333 ms, sys: 58.2 ms, total: 391 ms\n",
      "Wall time: 3.11 s\n"
     ]
    }
   ],
   "source": [
    "%%time\n",
    "tweets = user.timeline(count=tweets_count);\n",
    "last_tw_id=tweets[199].id;\n",
    "last_tw =tweets[199];\n",
    "lag=600000000000000;\n",
    "\n",
    "with open(('tweets_'+user_to_parse+'_test_1.csv'), 'w', newline='', encoding='utf-8') as csv_file:\n",
    "    csv_writer = csv.writer(csv_file)\n",
    "    for tweet in tweets:\n",
    "        if datetime.date(tweet.created_at.year,tweet.created_at.month, tweet.created_at.day) >= datetime.date(2017,7,24):\n",
    "             csv_writer.writerow((tweet.created_at,tweet.text));\n",
    "\n",
    "if datetime.date(last_tw.created_at.year,last_tw.created_at.month, last_tw.created_at.day) >= datetime.date(2017,7,24):\n",
    "    last_id=tweets[199].id\n",
    "    tweets = user.timeline(since_id=(last_id-lag),count=tweets_count);\n",
    "    with open(('tweets_'+user_to_parse+'_test_1.csv'), 'a', newline='', encoding='utf-8') as csv_file:\n",
    "        csv_writer = csv.writer(csv_file)\n",
    "        for tweet in tweets:\n",
    "            if datetime.date(tweet.created_at.year,tweet.created_at.month, tweet.created_at.day) >= datetime.date(2017,7,24):\n",
    "                 csv_writer.writerow((tweet.created_at,tweet.text));"
   ]
  },
  {
   "cell_type": "code",
   "execution_count": null,
   "metadata": {},
   "outputs": [],
   "source": []
  },
  {
   "cell_type": "code",
   "execution_count": null,
   "metadata": {
    "collapsed": true
   },
   "outputs": [],
   "source": []
  },
  {
   "cell_type": "code",
   "execution_count": null,
   "metadata": {
    "collapsed": true
   },
   "outputs": [],
   "source": []
  }
 ],
 "metadata": {
  "kernelspec": {
   "display_name": "Python 3",
   "language": "python",
   "name": "python3"
  },
  "language_info": {
   "codemirror_mode": {
    "name": "ipython",
    "version": 3
   },
   "file_extension": ".py",
   "mimetype": "text/x-python",
   "name": "python",
   "nbconvert_exporter": "python",
   "pygments_lexer": "ipython3",
   "version": "3.6.1"
  }
 },
 "nbformat": 4,
 "nbformat_minor": 2
}
